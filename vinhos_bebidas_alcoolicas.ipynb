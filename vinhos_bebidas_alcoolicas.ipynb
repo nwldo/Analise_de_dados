{
 "cells": [
  {
   "cell_type": "markdown",
   "id": "7fc3834e-f378-4982-841f-40418d14ecec",
   "metadata": {},
   "source": [
    "Através da base de dados drinks.csv (bebidas alcoolicas) implemente um método para leitura desses dados e produza pelo menos 2 relatórios (criar 2 métodos)\n",
    "\n",
    "Ex: Lista dos países que não consomem bebidas alcoolicas, qual a bebida mais consumida? Qual o país com maior consumo de vinho? "
   ]
  },
  {
   "cell_type": "code",
   "execution_count": 5,
   "id": "63267b9c-eb8c-497f-8513-ad9598332b7a",
   "metadata": {},
   "outputs": [
    {
     "name": "stdout",
     "output_type": "stream",
     "text": [
      "Namibia\n",
      "(20489.0, 'beer_servings')\n"
     ]
    }
   ],
   "source": [
    "import csv\n",
    "\n",
    "class Drinks:\n",
    "    def __init__(self,arquivo) -> None:\n",
    "        self.arquivo = arquivo\n",
    "\n",
    "    def ler_arquivo(self):\n",
    "        with open(self.arquivo, newline='') as csvfile:\n",
    "                    arquivo_csv = csv.DictReader(csvfile, delimiter=',')\n",
    "                    return list(arquivo_csv)\n",
    "                    #for linha in arquivo_csv:\n",
    "                         #print(linha)\n",
    "\n",
    "\n",
    "    def pais_maior_consumo_de_cerveja(self):\n",
    "        dados = self.ler_arquivo() # Chama a funçaõ ler_arquivo(self) que retorna um dicionário\n",
    "        maior_consumo = 0\n",
    "        pais_maior_consumo = \"\"\n",
    "\n",
    "        for linha in dados:\n",
    "            consumo = float(linha['beer_servings']) # Armazena o valor da coluna ('beer_servings') --> consumo de cerveja\n",
    "\n",
    "            if consumo > maior_consumo:\n",
    "                maior_consumo = consumo\n",
    "                pais_maior_consumo = linha['country'] # Armazena nome da cidade com maior consumo ('country')\n",
    "        \n",
    "        return pais_maior_consumo\n",
    "    \n",
    "    def bebida_mais_consumida(self):\n",
    "        dados = self.ler_arquivo()\n",
    "        consumo_cerveja = 0\n",
    "        consumo_destiladas = 0\n",
    "        consumo_vinhos = 0\n",
    "        maior_consumo = 0\n",
    "        bebida_maior_consumo = ''\n",
    "\n",
    "        for linha in dados:\n",
    "              cerveja = float(linha['beer_servings'])\n",
    "              destiladas = float(linha['spirit_servings'])\n",
    "              vinhos = float(linha['wine_servings'])\n",
    "\n",
    "              consumo_cerveja += cerveja\n",
    "              consumo_destiladas += destiladas\n",
    "              consumo_vinhos += vinhos\n",
    "\n",
    "        maior_consumo = consumo_cerveja\n",
    "\n",
    "        if consumo_destiladas > maior_consumo:\n",
    "            if consumo_destiladas > consumo_vinhos:\n",
    "                bebida_maior_consumo = 'spirit_servings'\n",
    "                return consumo_destiladas\n",
    "        elif consumo_vinhos > maior_consumo:\n",
    "            if consumo_vinhos > consumo_destiladas:\n",
    "                bebida_maior_consumo = 'wine_servings'\n",
    "                return consumo_vinhos\n",
    "        else:\n",
    "            bebida_maior_consumo = 'beer_servings'\n",
    "            return maior_consumo, bebida_maior_consumo\n",
    "\n",
    "\n",
    "\n",
    "\n",
    "drink = Drinks('bases de dados/drinks.csv')\n",
    "\n",
    "pais_com_maior_consumo = drink.pais_maior_consumo_de_cerveja()\n",
    "bebida_com_maior_consumo = drink.bebida_mais_consumida()\n",
    "\n",
    "\n",
    "print(pais_com_maior_consumo)\n",
    "print(bebida_com_maior_consumo)\n",
    "\n"
   ]
  },
  {
   "cell_type": "code",
   "execution_count": null,
   "id": "9c9a060b-66ec-400c-8772-f4c043136205",
   "metadata": {},
   "outputs": [],
   "source": []
  }
 ],
 "metadata": {
  "kernelspec": {
   "display_name": "Python 3 (ipykernel)",
   "language": "python",
   "name": "python3"
  },
  "language_info": {
   "codemirror_mode": {
    "name": "ipython",
    "version": 3
   },
   "file_extension": ".py",
   "mimetype": "text/x-python",
   "name": "python",
   "nbconvert_exporter": "python",
   "pygments_lexer": "ipython3",
   "version": "3.12.2"
  }
 },
 "nbformat": 4,
 "nbformat_minor": 5
}
