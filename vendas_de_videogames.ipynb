{
 "cells": [
  {
   "cell_type": "markdown",
   "id": "9fe97f84-c24b-4a66-8f85-d5834309e829",
   "metadata": {},
   "source": [
    "O conjunto de dados vgsales.csv contém informações sobre vendas de videogames\n",
    "com as seguintes colunas:\n",
    "- Rank: Posição de venda\n",
    "- Name: Nome do jogo\n",
    "- Platform: Plataforma do jogo\n",
    "• Year: Ano de lançamento\n",
    "• Genre: Gênero do jogo\n",
    "• Publisher: Editora do jogo\n",
    "• NA_Sales: Vendas na América do Norte (em milhões)\n",
    "• EU_Sales: Vendas na Europa (em milhões)\n",
    "• JP_Sales: Vendas no Japão (em milhões)\n",
    "• Other_Sales: Vendas em outras regiões (em milhões)\n",
    "• Global_Sales: Vendas globais (em milhões)"
   ]
  },
  {
   "cell_type": "code",
   "execution_count": 1,
   "id": "b50bc782-01d6-4687-86bd-7567898087c4",
   "metadata": {
    "scrolled": true
   },
   "outputs": [],
   "source": [
    "import pandas as pd\n",
    "import matplotlib.pyplot as plt"
   ]
  },
  {
   "cell_type": "markdown",
   "id": "702ca3fb-cac2-4138-ab51-05d7ed37200e",
   "metadata": {},
   "source": [
    "### Carregando o conjunto de dados vgsales.csv usando Pandas."
   ]
  },
  {
   "cell_type": "code",
   "execution_count": 2,
   "id": "ddce01ac-be51-44c5-a73d-e25e584c4c1a",
   "metadata": {},
   "outputs": [],
   "source": [
    "df = pd.read_csv('vgsales.csv', sep=',', encoding='latin-1')"
   ]
  },
  {
   "cell_type": "code",
   "execution_count": 3,
   "id": "016c921c-4319-472e-b4c4-d600f135c03b",
   "metadata": {},
   "outputs": [
    {
     "data": {
      "text/html": [
       "<div>\n",
       "<style scoped>\n",
       "    .dataframe tbody tr th:only-of-type {\n",
       "        vertical-align: middle;\n",
       "    }\n",
       "\n",
       "    .dataframe tbody tr th {\n",
       "        vertical-align: top;\n",
       "    }\n",
       "\n",
       "    .dataframe thead th {\n",
       "        text-align: right;\n",
       "    }\n",
       "</style>\n",
       "<table border=\"1\" class=\"dataframe\">\n",
       "  <thead>\n",
       "    <tr style=\"text-align: right;\">\n",
       "      <th></th>\n",
       "      <th>Rank</th>\n",
       "      <th>Name</th>\n",
       "      <th>Platform</th>\n",
       "      <th>Year</th>\n",
       "      <th>Genre</th>\n",
       "      <th>Publisher</th>\n",
       "      <th>NA_Sales</th>\n",
       "      <th>EU_Sales</th>\n",
       "      <th>JP_Sales</th>\n",
       "      <th>Other_Sales</th>\n",
       "      <th>Global_Sales</th>\n",
       "    </tr>\n",
       "  </thead>\n",
       "  <tbody>\n",
       "    <tr>\n",
       "      <th>0</th>\n",
       "      <td>1</td>\n",
       "      <td>Wii Sports</td>\n",
       "      <td>Wii</td>\n",
       "      <td>2006.0</td>\n",
       "      <td>Sports</td>\n",
       "      <td>Nintendo</td>\n",
       "      <td>41.49</td>\n",
       "      <td>29.02</td>\n",
       "      <td>3.77</td>\n",
       "      <td>8.46</td>\n",
       "      <td>82.74</td>\n",
       "    </tr>\n",
       "    <tr>\n",
       "      <th>1</th>\n",
       "      <td>2</td>\n",
       "      <td>Super Mario Bros.</td>\n",
       "      <td>NES</td>\n",
       "      <td>1985.0</td>\n",
       "      <td>Platform</td>\n",
       "      <td>Nintendo</td>\n",
       "      <td>29.08</td>\n",
       "      <td>3.58</td>\n",
       "      <td>6.81</td>\n",
       "      <td>0.77</td>\n",
       "      <td>40.24</td>\n",
       "    </tr>\n",
       "    <tr>\n",
       "      <th>2</th>\n",
       "      <td>3</td>\n",
       "      <td>Mario Kart Wii</td>\n",
       "      <td>Wii</td>\n",
       "      <td>2008.0</td>\n",
       "      <td>Racing</td>\n",
       "      <td>Nintendo</td>\n",
       "      <td>15.85</td>\n",
       "      <td>12.88</td>\n",
       "      <td>3.79</td>\n",
       "      <td>3.31</td>\n",
       "      <td>35.82</td>\n",
       "    </tr>\n",
       "    <tr>\n",
       "      <th>3</th>\n",
       "      <td>4</td>\n",
       "      <td>Wii Sports Resort</td>\n",
       "      <td>Wii</td>\n",
       "      <td>2009.0</td>\n",
       "      <td>Sports</td>\n",
       "      <td>Nintendo</td>\n",
       "      <td>15.75</td>\n",
       "      <td>11.01</td>\n",
       "      <td>3.28</td>\n",
       "      <td>2.96</td>\n",
       "      <td>33.00</td>\n",
       "    </tr>\n",
       "    <tr>\n",
       "      <th>4</th>\n",
       "      <td>5</td>\n",
       "      <td>Pokemon Red/Pokemon Blue</td>\n",
       "      <td>GB</td>\n",
       "      <td>1996.0</td>\n",
       "      <td>Role-Playing</td>\n",
       "      <td>Nintendo</td>\n",
       "      <td>11.27</td>\n",
       "      <td>8.89</td>\n",
       "      <td>10.22</td>\n",
       "      <td>1.00</td>\n",
       "      <td>31.37</td>\n",
       "    </tr>\n",
       "  </tbody>\n",
       "</table>\n",
       "</div>"
      ],
      "text/plain": [
       "   Rank                      Name Platform    Year         Genre Publisher  \\\n",
       "0     1                Wii Sports      Wii  2006.0        Sports  Nintendo   \n",
       "1     2         Super Mario Bros.      NES  1985.0      Platform  Nintendo   \n",
       "2     3            Mario Kart Wii      Wii  2008.0        Racing  Nintendo   \n",
       "3     4         Wii Sports Resort      Wii  2009.0        Sports  Nintendo   \n",
       "4     5  Pokemon Red/Pokemon Blue       GB  1996.0  Role-Playing  Nintendo   \n",
       "\n",
       "   NA_Sales  EU_Sales  JP_Sales  Other_Sales  Global_Sales  \n",
       "0     41.49     29.02      3.77         8.46         82.74  \n",
       "1     29.08      3.58      6.81         0.77         40.24  \n",
       "2     15.85     12.88      3.79         3.31         35.82  \n",
       "3     15.75     11.01      3.28         2.96         33.00  \n",
       "4     11.27      8.89     10.22         1.00         31.37  "
      ]
     },
     "execution_count": 3,
     "metadata": {},
     "output_type": "execute_result"
    }
   ],
   "source": [
    "df.head(n=5)"
   ]
  },
  {
   "cell_type": "markdown",
   "id": "a346e0f9-1aa6-41e0-9416-bdf6250b7591",
   "metadata": {},
   "source": [
    "- Rank: Posição de venda\n",
    "- Name: Nome do jogo\n",
    "- Platform: Plataforma do jogo\n",
    "- Year: Ano de lançamento\n",
    "- Genre: Gênero do jogo\n",
    "- Publisher: Editora do jogo\n",
    "- NA_Sales: Vendas na América do Norte (em milhões)\n",
    "- EU_Sales: Vendas na Europa (em milhões)\n",
    "- JP_Sales: Vendas no Japão (em milhões)\n",
    "- Other_Sales: Vendas em outras regiões (em milhões)\n",
    "- Global_Sales: Vendas globais (em milhões)"
   ]
  },
  {
   "cell_type": "code",
   "execution_count": 5,
   "id": "63e890fb-daf7-426c-bd42-604bb5610e81",
   "metadata": {},
   "outputs": [
    {
     "data": {
      "text/html": [
       "<div>\n",
       "<style scoped>\n",
       "    .dataframe tbody tr th:only-of-type {\n",
       "        vertical-align: middle;\n",
       "    }\n",
       "\n",
       "    .dataframe tbody tr th {\n",
       "        vertical-align: top;\n",
       "    }\n",
       "\n",
       "    .dataframe thead th {\n",
       "        text-align: right;\n",
       "    }\n",
       "</style>\n",
       "<table border=\"1\" class=\"dataframe\">\n",
       "  <thead>\n",
       "    <tr style=\"text-align: right;\">\n",
       "      <th></th>\n",
       "      <th>Rank</th>\n",
       "      <th>Name</th>\n",
       "      <th>Platform</th>\n",
       "      <th>Year</th>\n",
       "      <th>Genre</th>\n",
       "      <th>Publisher</th>\n",
       "      <th>NA_Sales</th>\n",
       "      <th>EU_Sales</th>\n",
       "      <th>JP_Sales</th>\n",
       "      <th>Other_Sales</th>\n",
       "      <th>Global_Sales</th>\n",
       "    </tr>\n",
       "  </thead>\n",
       "  <tbody>\n",
       "    <tr>\n",
       "      <th>0</th>\n",
       "      <td>1</td>\n",
       "      <td>Wii Sports</td>\n",
       "      <td>Wii</td>\n",
       "      <td>2006.0</td>\n",
       "      <td>Sports</td>\n",
       "      <td>Nintendo</td>\n",
       "      <td>41.49</td>\n",
       "      <td>29.02</td>\n",
       "      <td>3.77</td>\n",
       "      <td>8.46</td>\n",
       "      <td>82.74</td>\n",
       "    </tr>\n",
       "    <tr>\n",
       "      <th>1</th>\n",
       "      <td>2</td>\n",
       "      <td>Super Mario Bros.</td>\n",
       "      <td>NES</td>\n",
       "      <td>1985.0</td>\n",
       "      <td>Platform</td>\n",
       "      <td>Nintendo</td>\n",
       "      <td>29.08</td>\n",
       "      <td>3.58</td>\n",
       "      <td>6.81</td>\n",
       "      <td>0.77</td>\n",
       "      <td>40.24</td>\n",
       "    </tr>\n",
       "    <tr>\n",
       "      <th>2</th>\n",
       "      <td>3</td>\n",
       "      <td>Mario Kart Wii</td>\n",
       "      <td>Wii</td>\n",
       "      <td>2008.0</td>\n",
       "      <td>Racing</td>\n",
       "      <td>Nintendo</td>\n",
       "      <td>15.85</td>\n",
       "      <td>12.88</td>\n",
       "      <td>3.79</td>\n",
       "      <td>3.31</td>\n",
       "      <td>35.82</td>\n",
       "    </tr>\n",
       "    <tr>\n",
       "      <th>3</th>\n",
       "      <td>4</td>\n",
       "      <td>Wii Sports Resort</td>\n",
       "      <td>Wii</td>\n",
       "      <td>2009.0</td>\n",
       "      <td>Sports</td>\n",
       "      <td>Nintendo</td>\n",
       "      <td>15.75</td>\n",
       "      <td>11.01</td>\n",
       "      <td>3.28</td>\n",
       "      <td>2.96</td>\n",
       "      <td>33.00</td>\n",
       "    </tr>\n",
       "    <tr>\n",
       "      <th>4</th>\n",
       "      <td>5</td>\n",
       "      <td>Pokemon Red/Pokemon Blue</td>\n",
       "      <td>GB</td>\n",
       "      <td>1996.0</td>\n",
       "      <td>Role-Playing</td>\n",
       "      <td>Nintendo</td>\n",
       "      <td>11.27</td>\n",
       "      <td>8.89</td>\n",
       "      <td>10.22</td>\n",
       "      <td>1.00</td>\n",
       "      <td>31.37</td>\n",
       "    </tr>\n",
       "    <tr>\n",
       "      <th>...</th>\n",
       "      <td>...</td>\n",
       "      <td>...</td>\n",
       "      <td>...</td>\n",
       "      <td>...</td>\n",
       "      <td>...</td>\n",
       "      <td>...</td>\n",
       "      <td>...</td>\n",
       "      <td>...</td>\n",
       "      <td>...</td>\n",
       "      <td>...</td>\n",
       "      <td>...</td>\n",
       "    </tr>\n",
       "    <tr>\n",
       "      <th>16593</th>\n",
       "      <td>16596</td>\n",
       "      <td>Woody Woodpecker in Crazy Castle 5</td>\n",
       "      <td>GBA</td>\n",
       "      <td>2002.0</td>\n",
       "      <td>Platform</td>\n",
       "      <td>Kemco</td>\n",
       "      <td>0.01</td>\n",
       "      <td>0.00</td>\n",
       "      <td>0.00</td>\n",
       "      <td>0.00</td>\n",
       "      <td>0.01</td>\n",
       "    </tr>\n",
       "    <tr>\n",
       "      <th>16594</th>\n",
       "      <td>16597</td>\n",
       "      <td>Men in Black II: Alien Escape</td>\n",
       "      <td>GC</td>\n",
       "      <td>2003.0</td>\n",
       "      <td>Shooter</td>\n",
       "      <td>Infogrames</td>\n",
       "      <td>0.01</td>\n",
       "      <td>0.00</td>\n",
       "      <td>0.00</td>\n",
       "      <td>0.00</td>\n",
       "      <td>0.01</td>\n",
       "    </tr>\n",
       "    <tr>\n",
       "      <th>16595</th>\n",
       "      <td>16598</td>\n",
       "      <td>SCORE International Baja 1000: The Official Game</td>\n",
       "      <td>PS2</td>\n",
       "      <td>2008.0</td>\n",
       "      <td>Racing</td>\n",
       "      <td>Activision</td>\n",
       "      <td>0.00</td>\n",
       "      <td>0.00</td>\n",
       "      <td>0.00</td>\n",
       "      <td>0.00</td>\n",
       "      <td>0.01</td>\n",
       "    </tr>\n",
       "    <tr>\n",
       "      <th>16596</th>\n",
       "      <td>16599</td>\n",
       "      <td>Know How 2</td>\n",
       "      <td>DS</td>\n",
       "      <td>2010.0</td>\n",
       "      <td>Puzzle</td>\n",
       "      <td>7G//AMES</td>\n",
       "      <td>0.00</td>\n",
       "      <td>0.01</td>\n",
       "      <td>0.00</td>\n",
       "      <td>0.00</td>\n",
       "      <td>0.01</td>\n",
       "    </tr>\n",
       "    <tr>\n",
       "      <th>16597</th>\n",
       "      <td>16600</td>\n",
       "      <td>Spirits &amp; Spells</td>\n",
       "      <td>GBA</td>\n",
       "      <td>2003.0</td>\n",
       "      <td>Platform</td>\n",
       "      <td>Wanadoo</td>\n",
       "      <td>0.01</td>\n",
       "      <td>0.00</td>\n",
       "      <td>0.00</td>\n",
       "      <td>0.00</td>\n",
       "      <td>0.01</td>\n",
       "    </tr>\n",
       "  </tbody>\n",
       "</table>\n",
       "<p>16598 rows × 11 columns</p>\n",
       "</div>"
      ],
      "text/plain": [
       "        Rank                                              Name Platform  \\\n",
       "0          1                                        Wii Sports      Wii   \n",
       "1          2                                 Super Mario Bros.      NES   \n",
       "2          3                                    Mario Kart Wii      Wii   \n",
       "3          4                                 Wii Sports Resort      Wii   \n",
       "4          5                          Pokemon Red/Pokemon Blue       GB   \n",
       "...      ...                                               ...      ...   \n",
       "16593  16596                Woody Woodpecker in Crazy Castle 5      GBA   \n",
       "16594  16597                     Men in Black II: Alien Escape       GC   \n",
       "16595  16598  SCORE International Baja 1000: The Official Game      PS2   \n",
       "16596  16599                                        Know How 2       DS   \n",
       "16597  16600                                  Spirits & Spells      GBA   \n",
       "\n",
       "         Year         Genre   Publisher  NA_Sales  EU_Sales  JP_Sales  \\\n",
       "0      2006.0        Sports    Nintendo     41.49     29.02      3.77   \n",
       "1      1985.0      Platform    Nintendo     29.08      3.58      6.81   \n",
       "2      2008.0        Racing    Nintendo     15.85     12.88      3.79   \n",
       "3      2009.0        Sports    Nintendo     15.75     11.01      3.28   \n",
       "4      1996.0  Role-Playing    Nintendo     11.27      8.89     10.22   \n",
       "...       ...           ...         ...       ...       ...       ...   \n",
       "16593  2002.0      Platform       Kemco      0.01      0.00      0.00   \n",
       "16594  2003.0       Shooter  Infogrames      0.01      0.00      0.00   \n",
       "16595  2008.0        Racing  Activision      0.00      0.00      0.00   \n",
       "16596  2010.0        Puzzle    7G//AMES      0.00      0.01      0.00   \n",
       "16597  2003.0      Platform     Wanadoo      0.01      0.00      0.00   \n",
       "\n",
       "       Other_Sales  Global_Sales  \n",
       "0             8.46         82.74  \n",
       "1             0.77         40.24  \n",
       "2             3.31         35.82  \n",
       "3             2.96         33.00  \n",
       "4             1.00         31.37  \n",
       "...            ...           ...  \n",
       "16593         0.00          0.01  \n",
       "16594         0.00          0.01  \n",
       "16595         0.00          0.01  \n",
       "16596         0.00          0.01  \n",
       "16597         0.00          0.01  \n",
       "\n",
       "[16598 rows x 11 columns]"
      ]
     },
     "execution_count": 5,
     "metadata": {},
     "output_type": "execute_result"
    }
   ],
   "source": [
    "df"
   ]
  },
  {
   "cell_type": "markdown",
   "id": "f6c8d496-ecc9-41c7-bffc-067b58463295",
   "metadata": {},
   "source": [
    "## Estatísticas Descritivas: Calcule as estatísticas descritivas para as colunas de vendas<br><br> (NA_Sales, EU_Sales, JP_Sales, Other_Sales, Global_Sales).\n",
    "### As estatísticas descritivas incluem contagens, média, desvio padrão, valores mínimos e máximos para cada coluna numérica"
   ]
  },
  {
   "cell_type": "code",
   "execution_count": 4,
   "id": "0da08e94-9032-4d15-afd2-ac1268f055cc",
   "metadata": {},
   "outputs": [
    {
     "data": {
      "text/html": [
       "<div>\n",
       "<style scoped>\n",
       "    .dataframe tbody tr th:only-of-type {\n",
       "        vertical-align: middle;\n",
       "    }\n",
       "\n",
       "    .dataframe tbody tr th {\n",
       "        vertical-align: top;\n",
       "    }\n",
       "\n",
       "    .dataframe thead th {\n",
       "        text-align: right;\n",
       "    }\n",
       "</style>\n",
       "<table border=\"1\" class=\"dataframe\">\n",
       "  <thead>\n",
       "    <tr style=\"text-align: right;\">\n",
       "      <th></th>\n",
       "      <th>Rank</th>\n",
       "      <th>Year</th>\n",
       "      <th>NA_Sales</th>\n",
       "      <th>EU_Sales</th>\n",
       "      <th>JP_Sales</th>\n",
       "      <th>Other_Sales</th>\n",
       "      <th>Global_Sales</th>\n",
       "    </tr>\n",
       "  </thead>\n",
       "  <tbody>\n",
       "    <tr>\n",
       "      <th>count</th>\n",
       "      <td>16598.000000</td>\n",
       "      <td>16327.000000</td>\n",
       "      <td>16598.000000</td>\n",
       "      <td>16598.000000</td>\n",
       "      <td>16598.000000</td>\n",
       "      <td>16598.000000</td>\n",
       "      <td>16598.000000</td>\n",
       "    </tr>\n",
       "    <tr>\n",
       "      <th>mean</th>\n",
       "      <td>8300.605254</td>\n",
       "      <td>2006.406443</td>\n",
       "      <td>0.264667</td>\n",
       "      <td>0.146652</td>\n",
       "      <td>0.077782</td>\n",
       "      <td>0.048063</td>\n",
       "      <td>0.537441</td>\n",
       "    </tr>\n",
       "    <tr>\n",
       "      <th>std</th>\n",
       "      <td>4791.853933</td>\n",
       "      <td>5.828981</td>\n",
       "      <td>0.816683</td>\n",
       "      <td>0.505351</td>\n",
       "      <td>0.309291</td>\n",
       "      <td>0.188588</td>\n",
       "      <td>1.555028</td>\n",
       "    </tr>\n",
       "    <tr>\n",
       "      <th>min</th>\n",
       "      <td>1.000000</td>\n",
       "      <td>1980.000000</td>\n",
       "      <td>0.000000</td>\n",
       "      <td>0.000000</td>\n",
       "      <td>0.000000</td>\n",
       "      <td>0.000000</td>\n",
       "      <td>0.010000</td>\n",
       "    </tr>\n",
       "    <tr>\n",
       "      <th>25%</th>\n",
       "      <td>4151.250000</td>\n",
       "      <td>2003.000000</td>\n",
       "      <td>0.000000</td>\n",
       "      <td>0.000000</td>\n",
       "      <td>0.000000</td>\n",
       "      <td>0.000000</td>\n",
       "      <td>0.060000</td>\n",
       "    </tr>\n",
       "    <tr>\n",
       "      <th>50%</th>\n",
       "      <td>8300.500000</td>\n",
       "      <td>2007.000000</td>\n",
       "      <td>0.080000</td>\n",
       "      <td>0.020000</td>\n",
       "      <td>0.000000</td>\n",
       "      <td>0.010000</td>\n",
       "      <td>0.170000</td>\n",
       "    </tr>\n",
       "    <tr>\n",
       "      <th>75%</th>\n",
       "      <td>12449.750000</td>\n",
       "      <td>2010.000000</td>\n",
       "      <td>0.240000</td>\n",
       "      <td>0.110000</td>\n",
       "      <td>0.040000</td>\n",
       "      <td>0.040000</td>\n",
       "      <td>0.470000</td>\n",
       "    </tr>\n",
       "    <tr>\n",
       "      <th>max</th>\n",
       "      <td>16600.000000</td>\n",
       "      <td>2020.000000</td>\n",
       "      <td>41.490000</td>\n",
       "      <td>29.020000</td>\n",
       "      <td>10.220000</td>\n",
       "      <td>10.570000</td>\n",
       "      <td>82.740000</td>\n",
       "    </tr>\n",
       "  </tbody>\n",
       "</table>\n",
       "</div>"
      ],
      "text/plain": [
       "               Rank          Year      NA_Sales      EU_Sales      JP_Sales  \\\n",
       "count  16598.000000  16327.000000  16598.000000  16598.000000  16598.000000   \n",
       "mean    8300.605254   2006.406443      0.264667      0.146652      0.077782   \n",
       "std     4791.853933      5.828981      0.816683      0.505351      0.309291   \n",
       "min        1.000000   1980.000000      0.000000      0.000000      0.000000   \n",
       "25%     4151.250000   2003.000000      0.000000      0.000000      0.000000   \n",
       "50%     8300.500000   2007.000000      0.080000      0.020000      0.000000   \n",
       "75%    12449.750000   2010.000000      0.240000      0.110000      0.040000   \n",
       "max    16600.000000   2020.000000     41.490000     29.020000     10.220000   \n",
       "\n",
       "        Other_Sales  Global_Sales  \n",
       "count  16598.000000  16598.000000  \n",
       "mean       0.048063      0.537441  \n",
       "std        0.188588      1.555028  \n",
       "min        0.000000      0.010000  \n",
       "25%        0.000000      0.060000  \n",
       "50%        0.010000      0.170000  \n",
       "75%        0.040000      0.470000  \n",
       "max       10.570000     82.740000  "
      ]
     },
     "execution_count": 4,
     "metadata": {},
     "output_type": "execute_result"
    }
   ],
   "source": [
    "df.describe() # Usando para colunas numéricas"
   ]
  },
  {
   "cell_type": "markdown",
   "id": "e5588ee4-ff3f-4011-8265-f00d38163eb6",
   "metadata": {},
   "source": [
    "- 1ª linha é o número de casos (sendo o total de 16598) Obs.: a coluna \"Year\" não está completa porque existe dados nulos\n",
    "- 2ª linha a média de cada coluna\n",
    "- 3ª linha desvio padrão\n",
    "- 4ª linha valor mínimo\n",
    "- 5ª, 6ª, 7ª linhas são os quartis: dividem o conjunto de dados em 4 partes, ou seja, em pedaços de tamanhos iguais que contém 25%, 50% e 75% dos dados\n",
    "- 8ª linha valor máximo"
   ]
  },
  {
   "cell_type": "code",
   "execution_count": 5,
   "id": "d926736b-d344-4454-b28d-6cdaee0f5d40",
   "metadata": {},
   "outputs": [
    {
     "data": {
      "text/plain": [
       "Rank              0\n",
       "Name              0\n",
       "Platform          0\n",
       "Year            271\n",
       "Genre             0\n",
       "Publisher        58\n",
       "NA_Sales          0\n",
       "EU_Sales          0\n",
       "JP_Sales          0\n",
       "Other_Sales       0\n",
       "Global_Sales      0\n",
       "dtype: int64"
      ]
     },
     "execution_count": 5,
     "metadata": {},
     "output_type": "execute_result"
    }
   ],
   "source": [
    "df.isnull().sum() # Quantidade de dados nulos"
   ]
  },
  {
   "cell_type": "markdown",
   "id": "913cac87-df19-4168-8c5d-7cf8d7ff7ca5",
   "metadata": {},
   "source": [
    "#### A coluna \"Year\" tem 271 linhas com dados nulos"
   ]
  },
  {
   "cell_type": "code",
   "execution_count": 21,
   "id": "b5e51ccb-05b6-4b9c-b5a6-9d85337fb271",
   "metadata": {},
   "outputs": [
    {
     "name": "stderr",
     "output_type": "stream",
     "text": [
      "C:\\Users\\User\\AppData\\Local\\Temp\\ipykernel_8484\\1971651341.py:1: FutureWarning: A value is trying to be set on a copy of a DataFrame or Series through chained assignment using an inplace method.\n",
      "The behavior will change in pandas 3.0. This inplace method will never work because the intermediate object on which we are setting values always behaves as a copy.\n",
      "\n",
      "For example, when doing 'df[col].method(value, inplace=True)', try using 'df.method({col: value}, inplace=True)' or df[col] = df[col].method(value) instead, to perform the operation inplace on the original object.\n",
      "\n",
      "\n",
      "  df['Year'].fillna(0, inplace=True)\n"
     ]
    }
   ],
   "source": [
    "df['Year'].fillna(0, inplace=True)"
   ]
  },
  {
   "cell_type": "markdown",
   "id": "e547575d-5292-4695-88bb-84c36aaa4e19",
   "metadata": {},
   "source": [
    "## Total de Vendas por Gênero: Calcule o total de vendas globais para cada gênero."
   ]
  },
  {
   "cell_type": "code",
   "execution_count": 12,
   "id": "0a5a2812-c33c-4515-8ea7-d8da0c3794ee",
   "metadata": {},
   "outputs": [],
   "source": [
    "total_vendas_por_genero = df.groupby(['Genre'])['Global_Sales'].sum()"
   ]
  },
  {
   "cell_type": "code",
   "execution_count": 13,
   "id": "81aad524-7ee5-400d-b09d-0ea5239b9e7f",
   "metadata": {},
   "outputs": [
    {
     "data": {
      "text/plain": [
       "Genre\n",
       "Action          1751.18\n",
       "Adventure        239.04\n",
       "Fighting         448.91\n",
       "Misc             809.96\n",
       "Platform         831.37\n",
       "Puzzle           244.95\n",
       "Racing           732.04\n",
       "Role-Playing     927.37\n",
       "Shooter         1037.37\n",
       "Simulation       392.20\n",
       "Sports          1330.93\n",
       "Strategy         175.12\n",
       "Name: Global_Sales, dtype: float64"
      ]
     },
     "execution_count": 13,
     "metadata": {},
     "output_type": "execute_result"
    }
   ],
   "source": [
    "total_vendas_por_genero"
   ]
  },
  {
   "cell_type": "markdown",
   "id": "c78d9c4c-b093-45be-8d02-652050ad4f48",
   "metadata": {},
   "source": [
    "## Total de Vendas por Plataforma: Calcule o total de vendas globais para cada plataforma."
   ]
  },
  {
   "cell_type": "code",
   "execution_count": 14,
   "id": "10bcbb85-4f9d-47ad-9dc6-44b1833569a3",
   "metadata": {},
   "outputs": [],
   "source": [
    "total_vendas_por_plataforma = df.groupby(['Platform'])['Global_Sales'].sum()"
   ]
  },
  {
   "cell_type": "code",
   "execution_count": 15,
   "id": "b11d59d9-7d3e-4010-a028-9e4e9ad109ad",
   "metadata": {},
   "outputs": [
    {
     "data": {
      "text/plain": [
       "Platform\n",
       "2600      97.08\n",
       "3DO        0.10\n",
       "3DS      247.46\n",
       "DC        15.97\n",
       "DS       822.49\n",
       "GB       255.45\n",
       "GBA      318.50\n",
       "GC       199.36\n",
       "GEN       28.36\n",
       "GG         0.04\n",
       "N64      218.88\n",
       "NES      251.07\n",
       "NG         1.44\n",
       "PC       258.82\n",
       "PCFX       0.03\n",
       "PS       730.66\n",
       "PS2     1255.64\n",
       "PS3      957.84\n",
       "PS4      278.10\n",
       "PSP      296.28\n",
       "PSV       61.93\n",
       "SAT       33.59\n",
       "SCD        1.87\n",
       "SNES     200.05\n",
       "TG16       0.16\n",
       "WS         1.42\n",
       "Wii      926.71\n",
       "WiiU      81.86\n",
       "X360     979.96\n",
       "XB       258.26\n",
       "XOne     141.06\n",
       "Name: Global_Sales, dtype: float64"
      ]
     },
     "execution_count": 15,
     "metadata": {},
     "output_type": "execute_result"
    }
   ],
   "source": [
    "total_vendas_por_plataforma"
   ]
  },
  {
   "cell_type": "markdown",
   "id": "d237c089-7e2b-44e5-afb2-c3fd4aa2d964",
   "metadata": {},
   "source": [
    "## Jogo Mais Vendido: Determine qual jogo teve as maiores vendas globais."
   ]
  },
  {
   "cell_type": "code",
   "execution_count": 16,
   "id": "841a7a3d-8965-4a89-98a9-2a38d9a26ad0",
   "metadata": {},
   "outputs": [],
   "source": [
    "maior_venda_global = df.loc[df[\"Global_Sales\"].idxmax()]\n"
   ]
  },
  {
   "cell_type": "code",
   "execution_count": 17,
   "id": "a3a4eb11-4423-4b84-a322-4fc673c4eab9",
   "metadata": {},
   "outputs": [
    {
     "data": {
      "text/plain": [
       "'Wii Sports'"
      ]
     },
     "execution_count": 17,
     "metadata": {},
     "output_type": "execute_result"
    }
   ],
   "source": [
    "maior_venda_global[\"Name\"]"
   ]
  },
  {
   "cell_type": "markdown",
   "id": "722861d6-ff8f-4b70-92ec-f21b09615ac6",
   "metadata": {},
   "source": [
    "## Vendas Anuais: Calcule o total de vendas globais para cada ano."
   ]
  },
  {
   "cell_type": "code",
   "execution_count": 18,
   "id": "525b44c2-2388-4676-8b26-8cd1d9ad5fea",
   "metadata": {},
   "outputs": [],
   "source": [
    "# Extrair o ano da coluna \"Year\"\n",
    "df['Year'] = df['Year'].astype(int)\n",
    "\n",
    "# Agrupar por ano e calcular a soma das vendas globais\n",
    "total_vendas_por_ano = df.groupby('Year')['Global_Sales'].sum()"
   ]
  },
  {
   "cell_type": "code",
   "execution_count": 10,
   "id": "35426204-68c6-4948-a7f6-5030d30fe02c",
   "metadata": {},
   "outputs": [
    {
     "data": {
      "text/plain": [
       "Year\n",
       "0       100.08\n",
       "1980     11.38\n",
       "1981     35.77\n",
       "1982     28.86\n",
       "1983     16.79\n",
       "1984     50.36\n",
       "1985     53.94\n",
       "1986     37.07\n",
       "1987     21.74\n",
       "1988     47.22\n",
       "1989     73.45\n",
       "1990     49.39\n",
       "1991     32.23\n",
       "1992     76.16\n",
       "1993     45.98\n",
       "1994     79.17\n",
       "1995     88.11\n",
       "1996    199.15\n",
       "1997    200.98\n",
       "1998    256.47\n",
       "1999    251.27\n",
       "2000    201.56\n",
       "2001    331.47\n",
       "2002    395.52\n",
       "2003    357.85\n",
       "2004    419.31\n",
       "2005    459.94\n",
       "2006    521.04\n",
       "2007    611.13\n",
       "2008    678.90\n",
       "2009    667.30\n",
       "2010    600.45\n",
       "2011    515.99\n",
       "2012    363.54\n",
       "2013    368.11\n",
       "2014    337.05\n",
       "2015    264.44\n",
       "2016     70.93\n",
       "2017      0.05\n",
       "2020      0.29\n",
       "Name: Global_Sales, dtype: float64"
      ]
     },
     "execution_count": 10,
     "metadata": {},
     "output_type": "execute_result"
    }
   ],
   "source": [
    "total_vendas_por_ano"
   ]
  },
  {
   "cell_type": "markdown",
   "id": "091ad7ad-27c7-46e0-b58b-8c6480c3cabb",
   "metadata": {},
   "source": [
    "## Gráficos: Crie gráficos de barras para visualizar as vendas por gênero e por plataforma."
   ]
  },
  {
   "cell_type": "code",
   "execution_count": 19,
   "id": "75c043a5-eca5-45b6-844b-fa78ece29fd9",
   "metadata": {},
   "outputs": [
    {
     "data": {
      "image/png": "[encoded data removed]",
      "text/plain": [
       "<Figure size 1000x600 with 1 Axes>"
      ]
     },
     "metadata": {},
     "output_type": "display_data"
    }
   ],
   "source": [
    "# Criar o gráfico de barras\n",
    "plt.figure(figsize=(10, 6))\n",
    "plt.bar(total_vendas_por_genero.index, total_vendas_por_genero.values)\n",
    "plt.xlabel(\"Gênero\")\n",
    "plt.ylabel(\"Vendas Globais\")\n",
    "plt.title(\"Vendas de Videogames por Gênero\")\n",
    "plt.xticks(rotation=45)\n",
    "plt.show()"
   ]
  },
  {
   "cell_type": "code",
   "execution_count": 20,
   "id": "a58674ca-f1b7-4fa7-80ca-63b1b1169cde",
   "metadata": {},
   "outputs": [
    {
     "data": {
      "image/png": "[encoded data removed]",
      "text/plain": [
       "<Figure size 1000x600 with 1 Axes>"
      ]
     },
     "metadata": {},
     "output_type": "display_data"
    }
   ],
   "source": [
    "# Criar o gráfico de barras\n",
    "plt.figure(figsize=(10, 6))\n",
    "plt.bar(total_vendas_por_plataforma.index, total_vendas_por_plataforma.values)\n",
    "plt.xlabel(\"Gênero\")\n",
    "plt.ylabel(\"Vendas Globais\")\n",
    "plt.title(\"Vendas de Videogames por Platoforma\")\n",
    "plt.xticks(rotation=45)\n",
    "plt.show()"
   ]
  },
  {
   "cell_type": "markdown",
   "id": "b6410275-3b16-466a-b80e-7a56f2b562b3",
   "metadata": {},
   "source": [
    "## Calcule o total de vendas no Japão para cada plataforma"
   ]
  },
  {
   "cell_type": "code",
   "execution_count": 4,
   "id": "f7b9cafe-445a-4668-9842-a0fb48baa264",
   "metadata": {},
   "outputs": [],
   "source": [
    "total_vendas_no_japao_por_plataforma = df.groupby(['Platform'])['JP_Sales'].sum()"
   ]
  },
  {
   "cell_type": "code",
   "execution_count": 5,
   "id": "7b613bba-a6c0-4047-be2e-3b29d0099adb",
   "metadata": {},
   "outputs": [
    {
     "data": {
      "text/plain": [
       "Platform\n",
       "2600      0.00\n",
       "3DO       0.10\n",
       "3DS      97.35\n",
       "DC        8.56\n",
       "DS      175.57\n",
       "GB       85.12\n",
       "GBA      47.33\n",
       "GC       21.58\n",
       "GEN       2.67\n",
       "GG        0.04\n",
       "N64      34.22\n",
       "NES      98.65\n",
       "NG        1.44\n",
       "PC        0.17\n",
       "PCFX      0.03\n",
       "PS      139.82\n",
       "PS2     139.20\n",
       "PS3      79.99\n",
       "PS4      14.30\n",
       "PSP      76.79\n",
       "PSV      20.96\n",
       "SAT      32.26\n",
       "SCD       0.45\n",
       "SNES    116.55\n",
       "TG16      0.16\n",
       "WS        1.42\n",
       "Wii      69.35\n",
       "WiiU     12.79\n",
       "X360     12.43\n",
       "XB        1.38\n",
       "XOne      0.34\n",
       "Name: JP_Sales, dtype: float64"
      ]
     },
     "execution_count": 5,
     "metadata": {},
     "output_type": "execute_result"
    }
   ],
   "source": [
    "total_vendas_no_japao_por_plataforma"
   ]
  },
  {
   "cell_type": "markdown",
   "id": "32a47116-68ad-42f3-91da-729395a35bcb",
   "metadata": {},
   "source": [
    "## Calcule o total de vendas no Japão por gênero"
   ]
  },
  {
   "cell_type": "code",
   "execution_count": null,
   "id": "de8b68cc-b55f-45c2-adbb-513e095cc592",
   "metadata": {},
   "outputs": [],
   "source": [
    "total_vendas_no_japao_por_genero = df.groupby(['Genre'])['Global_Sales'].sum()"
   ]
  },
  {
   "cell_type": "code",
   "execution_count": null,
   "id": "d84c1d9c-3982-48a3-9119-029efdf7ef99",
   "metadata": {},
   "outputs": [],
   "source": []
  }
 ],
 "metadata": {
  "kernelspec": {
   "display_name": "Python 3 (ipykernel)",
   "language": "python",
   "name": "python3"
  },
  "language_info": {
   "codemirror_mode": {
    "name": "ipython",
    "version": 3
   },
   "file_extension": ".py",
   "mimetype": "text/x-python",
   "name": "python",
   "nbconvert_exporter": "python",
   "pygments_lexer": "ipython3",
   "version": "3.12.2"
  }
 },
 "nbformat": 4,
 "nbformat_minor": 5
}
