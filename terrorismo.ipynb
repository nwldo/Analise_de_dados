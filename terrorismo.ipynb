{
 "cells": [
  {
   "cell_type": "markdown",
   "id": "416fc858-390f-42bd-9080-626e70c7418d",
   "metadata": {},
   "source": [
    "Através da base de dados terrorismo.csv implemente utilizando a linguagem python um método para leitura desses dados e produza pelo menos 2 relatórios (criar 2 métodos)\n",
    "\n",
    "Ex: atentados terorristas com maior numero de mortes, etc"
   ]
  },
  {
   "cell_type": "code",
   "execution_count": 2,
   "id": "c0f41439-fc18-4a3e-848f-6d67ecd21e45",
   "metadata": {},
   "outputs": [
    {
     "ename": "FileNotFoundError",
     "evalue": "[Errno 2] No such file or directory: 'bases de dados/resultado.csv'",
     "output_type": "error",
     "traceback": [
      "\u001b[1;31m---------------------------------------------------------------------------\u001b[0m",
      "\u001b[1;31mFileNotFoundError\u001b[0m                         Traceback (most recent call last)",
      "Cell \u001b[1;32mIn[2], line 74\u001b[0m\n\u001b[0;32m     70\u001b[0m normalizar_dados \u001b[38;5;241m=\u001b[39m dados\u001b[38;5;241m.\u001b[39mler_arquivo()\n\u001b[0;32m     72\u001b[0m dados_normalizados \u001b[38;5;241m=\u001b[39m AtentadosTerroristas(\u001b[38;5;124m'\u001b[39m\u001b[38;5;124mbases de dados/resultado.csv\u001b[39m\u001b[38;5;124m'\u001b[39m)\n\u001b[1;32m---> 74\u001b[0m atentado_com_mais_mortes \u001b[38;5;241m=\u001b[39m \u001b[43mdados_normalizados\u001b[49m\u001b[38;5;241;43m.\u001b[39;49m\u001b[43matentado_maior_numero_de_mortes\u001b[49m\u001b[43m(\u001b[49m\u001b[43m)\u001b[49m\n",
      "Cell \u001b[1;32mIn[2], line 38\u001b[0m, in \u001b[0;36mAtentadosTerroristas.atentado_maior_numero_de_mortes\u001b[1;34m(self)\u001b[0m\n\u001b[0;32m     37\u001b[0m \u001b[38;5;28;01mdef\u001b[39;00m \u001b[38;5;21matentado_maior_numero_de_mortes\u001b[39m(\u001b[38;5;28mself\u001b[39m):\n\u001b[1;32m---> 38\u001b[0m     dados \u001b[38;5;241m=\u001b[39m \u001b[38;5;28;43mself\u001b[39;49m\u001b[38;5;241;43m.\u001b[39;49m\u001b[43mler_arquivo_normalizado\u001b[49m\u001b[43m(\u001b[49m\u001b[43m)\u001b[49m \u001b[38;5;66;03m# Chama a funçaõ ler_arquivo(self)\u001b[39;00m\n\u001b[0;32m     39\u001b[0m     maior_numero_mortes \u001b[38;5;241m=\u001b[39m \u001b[38;5;241m0\u001b[39m\n\u001b[0;32m     40\u001b[0m     pais_maior_numero_mortes \u001b[38;5;241m=\u001b[39m \u001b[38;5;124m\"\u001b[39m\u001b[38;5;124m\"\u001b[39m\n",
      "Cell \u001b[1;32mIn[2], line 31\u001b[0m, in \u001b[0;36mAtentadosTerroristas.ler_arquivo_normalizado\u001b[1;34m(self)\u001b[0m\n\u001b[0;32m     29\u001b[0m \u001b[38;5;28;01mdef\u001b[39;00m \u001b[38;5;21mler_arquivo_normalizado\u001b[39m(\u001b[38;5;28mself\u001b[39m):\n\u001b[1;32m---> 31\u001b[0m     \u001b[38;5;28;01mwith\u001b[39;00m \u001b[38;5;28;43mopen\u001b[39;49m\u001b[43m(\u001b[49m\u001b[38;5;28;43mself\u001b[39;49m\u001b[38;5;241;43m.\u001b[39;49m\u001b[43marquivo\u001b[49m\u001b[43m,\u001b[49m\u001b[43m \u001b[49m\u001b[43mnewline\u001b[49m\u001b[38;5;241;43m=\u001b[39;49m\u001b[38;5;124;43m'\u001b[39;49m\u001b[38;5;124;43m'\u001b[39;49m\u001b[43m)\u001b[49m \u001b[38;5;28;01mas\u001b[39;00m csvfile:\n\u001b[0;32m     32\u001b[0m                 arquivo_csv \u001b[38;5;241m=\u001b[39m csv\u001b[38;5;241m.\u001b[39mDictReader(csvfile, delimiter\u001b[38;5;241m=\u001b[39m\u001b[38;5;124m'\u001b[39m\u001b[38;5;124m,\u001b[39m\u001b[38;5;124m'\u001b[39m)\n\u001b[0;32m     33\u001b[0m                 \u001b[38;5;28;01mreturn\u001b[39;00m \u001b[38;5;28mlist\u001b[39m(arquivo_csv)\n",
      "File \u001b[1;32m~\\AppData\\Local\\Programs\\Python\\Python312\\Lib\\site-packages\\IPython\\core\\interactiveshell.py:324\u001b[0m, in \u001b[0;36m_modified_open\u001b[1;34m(file, *args, **kwargs)\u001b[0m\n\u001b[0;32m    317\u001b[0m \u001b[38;5;28;01mif\u001b[39;00m file \u001b[38;5;129;01min\u001b[39;00m {\u001b[38;5;241m0\u001b[39m, \u001b[38;5;241m1\u001b[39m, \u001b[38;5;241m2\u001b[39m}:\n\u001b[0;32m    318\u001b[0m     \u001b[38;5;28;01mraise\u001b[39;00m \u001b[38;5;167;01mValueError\u001b[39;00m(\n\u001b[0;32m    319\u001b[0m         \u001b[38;5;124mf\u001b[39m\u001b[38;5;124m\"\u001b[39m\u001b[38;5;124mIPython won\u001b[39m\u001b[38;5;124m'\u001b[39m\u001b[38;5;124mt let you open fd=\u001b[39m\u001b[38;5;132;01m{\u001b[39;00mfile\u001b[38;5;132;01m}\u001b[39;00m\u001b[38;5;124m by default \u001b[39m\u001b[38;5;124m\"\u001b[39m\n\u001b[0;32m    320\u001b[0m         \u001b[38;5;124m\"\u001b[39m\u001b[38;5;124mas it is likely to crash IPython. If you know what you are doing, \u001b[39m\u001b[38;5;124m\"\u001b[39m\n\u001b[0;32m    321\u001b[0m         \u001b[38;5;124m\"\u001b[39m\u001b[38;5;124myou can use builtins\u001b[39m\u001b[38;5;124m'\u001b[39m\u001b[38;5;124m open.\u001b[39m\u001b[38;5;124m\"\u001b[39m\n\u001b[0;32m    322\u001b[0m     )\n\u001b[1;32m--> 324\u001b[0m \u001b[38;5;28;01mreturn\u001b[39;00m \u001b[43mio_open\u001b[49m\u001b[43m(\u001b[49m\u001b[43mfile\u001b[49m\u001b[43m,\u001b[49m\u001b[43m \u001b[49m\u001b[38;5;241;43m*\u001b[39;49m\u001b[43margs\u001b[49m\u001b[43m,\u001b[49m\u001b[43m \u001b[49m\u001b[38;5;241;43m*\u001b[39;49m\u001b[38;5;241;43m*\u001b[39;49m\u001b[43mkwargs\u001b[49m\u001b[43m)\u001b[49m\n",
      "\u001b[1;31mFileNotFoundError\u001b[0m: [Errno 2] No such file or directory: 'bases de dados/resultado.csv'"
     ]
    }
   ],
   "source": [
    "import csv\n",
    "\n",
    "class AtentadosTerroristas:\n",
    "    def __init__(self,arquivo):\n",
    "        self.arquivo = arquivo\n",
    "\n",
    "    \n",
    "    # Função que recebe o arquivo CSV a ser normalizado\n",
    "    def ler_arquivo(self):\n",
    "        with open(self.arquivo, newline='') as csvfile:\n",
    "                    arquivo_csv = csv.reader(csvfile, delimiter=',')\n",
    "                    linhas = list(arquivo_csv) # Lê todas as linhas do arquivo\n",
    "                    #for linha in arquivo_csv:\n",
    "                         #print(linha)\n",
    "\n",
    "        # Percorre as linhas do arquivo para procurar células vazias\n",
    "        for linha in linhas:\n",
    "            for i, valor in enumerate(linha):\n",
    "                if not valor.strip():  # Se a célula estiver completamente vazia\n",
    "                    linha[i] = '0'\n",
    "\n",
    "        # Escreve as linhas atualizadas em um novo arquivo CSV\n",
    "        with open('resultado.csv', 'w', newline='') as arquivo_saida:\n",
    "            arquivo_csv = csv.writer(arquivo_saida)\n",
    "            arquivo_csv.writerows(linhas)\n",
    "    \n",
    "    \n",
    "    # Função que recebe o arquivo CSV normalizado\n",
    "    def ler_arquivo_normalizado(self):\n",
    "\n",
    "        with open(self.arquivo, newline='') as csvfile:\n",
    "                    arquivo_csv = csv.DictReader(csvfile, delimiter=',')\n",
    "                    return list(arquivo_csv)\n",
    "                    #for linha in arquivo_csv:\n",
    "                         #print(linha)\n",
    "\n",
    "    def atentado_maior_numero_de_mortes(self):\n",
    "        dados = self.ler_arquivo_normalizado() # Chama a funçaõ ler_arquivo(self)\n",
    "        maior_numero_mortes = 0\n",
    "        pais_maior_numero_mortes = \"\"\n",
    "\n",
    "        for linha in dados:\n",
    "            numero_mortes = int(linha['Number Killed']) # Armazena o valor do número de mortes\n",
    "\n",
    "            if numero_mortes > maior_numero_mortes:\n",
    "                maior_numero_mortes = numero_mortes\n",
    "                pais_maior_numero_mortes = linha['Country'] # Armazena nome da cidade com maior número de feridos ('country')\n",
    "        \n",
    "        return pais_maior_numero_mortes, maior_numero_mortes\n",
    "    \n",
    "    def atentado_maior_numero_de_feridos(self):\n",
    "         dados = self.ler_arquivo_normalizado() # Chama a função ler_arquivo(self)\n",
    "         maior_numero_feridos = 0\n",
    "         pais_maior_numero_feridos = \"\"\n",
    "\n",
    "         for linha in dados:\n",
    "            numero_feridos = int(linha['Number Injured']) # Armazena o valor do número de feridos\n",
    "\n",
    "            if numero_feridos > maior_numero_feridos:\n",
    "                 maior_numero_feridos = numero_feridos\n",
    "                 pais_maior_numero_feridos = linha['Country']\n",
    "\n",
    "         return pais_maior_numero_feridos, maior_numero_feridos\n",
    "\n",
    "\n",
    "\n",
    "\n",
    "dados = AtentadosTerroristas('bases de dados/terrorismo.csv')\n",
    "#print(terror.ler_arquivo())\n",
    "normalizar_dados = dados.ler_arquivo()\n",
    "\n",
    "dados_normalizados = AtentadosTerroristas('bases de dados/resultado.csv')\n",
    "\n",
    "atentado_com_mais_mortes = dados_normalizados.atentado_maior_numero_de_mortes()\n",
    "print(f'Relatório: País do Atentado com mais morte -->', atentado_com_mais_mortes)\n",
    "\n",
    "atentado_com_mais_feridos = dados_normalizados.atentado_maior_numero_de_feridos()\n",
    "print(f'Relatório: País do Atentado com mais feridos -->', atentado_com_mais_feridos)"
   ]
  },
  {
   "cell_type": "code",
   "execution_count": null,
   "id": "363e895d-a084-4f1f-a7e2-89911e505ac6",
   "metadata": {},
   "outputs": [],
   "source": []
  }
 ],
 "metadata": {
  "kernelspec": {
   "display_name": "Python 3 (ipykernel)",
   "language": "python",
   "name": "python3"
  },
  "language_info": {
   "codemirror_mode": {
    "name": "ipython",
    "version": 3
   },
   "file_extension": ".py",
   "mimetype": "text/x-python",
   "name": "python",
   "nbconvert_exporter": "python",
   "pygments_lexer": "ipython3",
   "version": "3.12.2"
  }
 },
 "nbformat": 4,
 "nbformat_minor": 5
}
