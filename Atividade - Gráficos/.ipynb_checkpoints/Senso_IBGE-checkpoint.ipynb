{
 "cells": [
  {
   "cell_type": "markdown",
   "id": "3c4542e3-4273-4e8e-965e-aa8689477287",
   "metadata": {},
   "source": [
    "Utilizando  5 datasets trabalhados em aulas anteriores:\n",
    "1. Carros \n",
    "2. Vinhos\n",
    "3. Titanic\n",
    "4. Filmes\n",
    "5. Senso_IBGE\n",
    "\n",
    "escolha pelo menos 2 gráficos adequados para representar os resultados de seus insights para cada dataset acima  e plote-os. "
   ]
  },
  {
   "cell_type": "code",
   "execution_count": 1,
   "id": "8f6cf998-3dad-462e-9c09-914a49817a74",
   "metadata": {},
   "outputs": [],
   "source": [
    "import pandas as pd"
   ]
  },
  {
   "cell_type": "code",
   "execution_count": 2,
   "id": "9f6a457c-f802-4c96-bfa5-6f1caa861ca4",
   "metadata": {},
   "outputs": [],
   "source": [
    "# Foi utilizando esse caminho porque o base de dados está no diretório anterior\n",
    "df = pd.read_csv('../bases de dados/dados_senso_ibge_2015.csv', sep=',')"
   ]
  },
  {
   "cell_type": "code",
   "execution_count": null,
   "id": "54c4116b-b92c-4786-80d9-4e8d478629bf",
   "metadata": {},
   "outputs": [],
   "source": []
  },
  {
   "cell_type": "code",
   "execution_count": null,
   "id": "f5e91973-1de3-4b99-8501-f22024151c9a",
   "metadata": {},
   "outputs": [],
   "source": []
  },
  {
   "cell_type": "code",
   "execution_count": null,
   "id": "acbe0a98-42f0-499b-ab68-1632c62912ef",
   "metadata": {},
   "outputs": [],
   "source": []
  }
 ],
 "metadata": {
  "kernelspec": {
   "display_name": "Python 3 (ipykernel)",
   "language": "python",
   "name": "python3"
  },
  "language_info": {
   "codemirror_mode": {
    "name": "ipython",
    "version": 3
   },
   "file_extension": ".py",
   "mimetype": "text/x-python",
   "name": "python",
   "nbconvert_exporter": "python",
   "pygments_lexer": "ipython3",
   "version": "3.12.4"
  }
 },
 "nbformat": 4,
 "nbformat_minor": 5
}
