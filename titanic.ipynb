{
 "cells": [
  {
   "cell_type": "markdown",
   "id": "e7d07592-243c-4aee-a367-d0d159ec4633",
   "metadata": {},
   "source": [
    "## Importando a biblioteca Pandas"
   ]
  },
  {
   "cell_type": "code",
   "execution_count": 1,
   "id": "04bb058c-effa-41d3-ae40-7a3d11cf5d9f",
   "metadata": {},
   "outputs": [],
   "source": [
    "import pandas as pd"
   ]
  },
  {
   "cell_type": "markdown",
   "id": "26df345a-5b4a-497e-9bfe-d21ef7723900",
   "metadata": {},
   "source": [
    "## Carregando o conjunto de dados titanic.csv usando Pandas."
   ]
  },
  {
   "cell_type": "code",
   "execution_count": 2,
   "id": "b5b2475c-2a0e-44dd-bc49-8ac2935ac7c3",
   "metadata": {},
   "outputs": [],
   "source": [
    "df = pd.read_csv('bases de dados/titanic.csv', sep=',', encoding='latin-1')"
   ]
  },
  {
   "cell_type": "code",
   "execution_count": 3,
   "id": "c8ae6b41-6c18-473c-9634-68bde0bc641b",
   "metadata": {},
   "outputs": [
    {
     "data": {
      "text/html": [
       "<div>\n",
       "<style scoped>\n",
       "    .dataframe tbody tr th:only-of-type {\n",
       "        vertical-align: middle;\n",
       "    }\n",
       "\n",
       "    .dataframe tbody tr th {\n",
       "        vertical-align: top;\n",
       "    }\n",
       "\n",
       "    .dataframe thead th {\n",
       "        text-align: right;\n",
       "    }\n",
       "</style>\n",
       "<table border=\"1\" class=\"dataframe\">\n",
       "  <thead>\n",
       "    <tr style=\"text-align: right;\">\n",
       "      <th></th>\n",
       "      <th>PassengerId</th>\n",
       "      <th>Survived</th>\n",
       "      <th>Pclass</th>\n",
       "      <th>Name</th>\n",
       "      <th>Sex</th>\n",
       "      <th>Age</th>\n",
       "      <th>SibSp</th>\n",
       "      <th>Parch</th>\n",
       "      <th>Ticket</th>\n",
       "      <th>Fare</th>\n",
       "      <th>Cabin</th>\n",
       "      <th>Embarked</th>\n",
       "    </tr>\n",
       "  </thead>\n",
       "  <tbody>\n",
       "    <tr>\n",
       "      <th>0</th>\n",
       "      <td>1</td>\n",
       "      <td>0</td>\n",
       "      <td>3</td>\n",
       "      <td>Braund, Mr. Owen Harris</td>\n",
       "      <td>male</td>\n",
       "      <td>22.0</td>\n",
       "      <td>1</td>\n",
       "      <td>0</td>\n",
       "      <td>A/5 21171</td>\n",
       "      <td>7.2500</td>\n",
       "      <td>NaN</td>\n",
       "      <td>S</td>\n",
       "    </tr>\n",
       "    <tr>\n",
       "      <th>1</th>\n",
       "      <td>2</td>\n",
       "      <td>1</td>\n",
       "      <td>1</td>\n",
       "      <td>Cumings, Mrs. John Bradley (Florence Briggs Th...</td>\n",
       "      <td>female</td>\n",
       "      <td>38.0</td>\n",
       "      <td>1</td>\n",
       "      <td>0</td>\n",
       "      <td>PC 17599</td>\n",
       "      <td>71.2833</td>\n",
       "      <td>C85</td>\n",
       "      <td>C</td>\n",
       "    </tr>\n",
       "    <tr>\n",
       "      <th>2</th>\n",
       "      <td>3</td>\n",
       "      <td>1</td>\n",
       "      <td>3</td>\n",
       "      <td>Heikkinen, Miss. Laina</td>\n",
       "      <td>female</td>\n",
       "      <td>26.0</td>\n",
       "      <td>0</td>\n",
       "      <td>0</td>\n",
       "      <td>STON/O2. 3101282</td>\n",
       "      <td>7.9250</td>\n",
       "      <td>NaN</td>\n",
       "      <td>S</td>\n",
       "    </tr>\n",
       "    <tr>\n",
       "      <th>3</th>\n",
       "      <td>4</td>\n",
       "      <td>1</td>\n",
       "      <td>1</td>\n",
       "      <td>Futrelle, Mrs. Jacques Heath (Lily May Peel)</td>\n",
       "      <td>female</td>\n",
       "      <td>35.0</td>\n",
       "      <td>1</td>\n",
       "      <td>0</td>\n",
       "      <td>113803</td>\n",
       "      <td>53.1000</td>\n",
       "      <td>C123</td>\n",
       "      <td>S</td>\n",
       "    </tr>\n",
       "    <tr>\n",
       "      <th>4</th>\n",
       "      <td>5</td>\n",
       "      <td>0</td>\n",
       "      <td>3</td>\n",
       "      <td>Allen, Mr. William Henry</td>\n",
       "      <td>male</td>\n",
       "      <td>35.0</td>\n",
       "      <td>0</td>\n",
       "      <td>0</td>\n",
       "      <td>373450</td>\n",
       "      <td>8.0500</td>\n",
       "      <td>NaN</td>\n",
       "      <td>S</td>\n",
       "    </tr>\n",
       "  </tbody>\n",
       "</table>\n",
       "</div>"
      ],
      "text/plain": [
       "   PassengerId  Survived  Pclass  \\\n",
       "0            1         0       3   \n",
       "1            2         1       1   \n",
       "2            3         1       3   \n",
       "3            4         1       1   \n",
       "4            5         0       3   \n",
       "\n",
       "                                                Name     Sex   Age  SibSp  \\\n",
       "0                            Braund, Mr. Owen Harris    male  22.0      1   \n",
       "1  Cumings, Mrs. John Bradley (Florence Briggs Th...  female  38.0      1   \n",
       "2                             Heikkinen, Miss. Laina  female  26.0      0   \n",
       "3       Futrelle, Mrs. Jacques Heath (Lily May Peel)  female  35.0      1   \n",
       "4                           Allen, Mr. William Henry    male  35.0      0   \n",
       "\n",
       "   Parch            Ticket     Fare Cabin Embarked  \n",
       "0      0         A/5 21171   7.2500   NaN        S  \n",
       "1      0          PC 17599  71.2833   C85        C  \n",
       "2      0  STON/O2. 3101282   7.9250   NaN        S  \n",
       "3      0            113803  53.1000  C123        S  \n",
       "4      0            373450   8.0500   NaN        S  "
      ]
     },
     "execution_count": 3,
     "metadata": {},
     "output_type": "execute_result"
    }
   ],
   "source": [
    "df.head(n=5)"
   ]
  },
  {
   "cell_type": "markdown",
   "id": "a43e7bfc-63f4-482d-834f-e7b1c9f3bbad",
   "metadata": {},
   "source": [
    "### a) percentual de passageiros sobreviventes do sexo masculino"
   ]
  },
  {
   "cell_type": "code",
   "execution_count": 4,
   "id": "3f5573f9-0302-4b28-9a4f-4e53e7e90c54",
   "metadata": {},
   "outputs": [],
   "source": [
    "# Calcular o número total de passageiros do sexo masculino\n",
    "passageiros_masc = df[df['Sex'] == 'male']\n",
    "total_passageiros_masc = passageiros_masc.shape[0]"
   ]
  },
  {
   "cell_type": "code",
   "execution_count": 5,
   "id": "4cb351fc-c556-4023-b693-bbe62e7877e2",
   "metadata": {},
   "outputs": [],
   "source": [
    "# Sobreviventes do sexo masculino\n",
    "sobreviventes = passageiros_masc[passageiros_masc['Survived'] == 1]"
   ]
  },
  {
   "cell_type": "code",
   "execution_count": 6,
   "id": "538a0ae7-ce62-412a-895b-35271b7b952d",
   "metadata": {},
   "outputs": [],
   "source": [
    "# Calcular o total de passageiros sobreviventes\n",
    "total_sobreviventes = sobreviventes.shape[0]"
   ]
  },
  {
   "cell_type": "code",
   "execution_count": 7,
   "id": "3a8ddad1-1bd6-4fa6-8653-618d0cdda495",
   "metadata": {},
   "outputs": [
    {
     "data": {
      "text/plain": [
       "18.890814558058924"
      ]
     },
     "execution_count": 7,
     "metadata": {},
     "output_type": "execute_result"
    }
   ],
   "source": [
    "# percentual de sobreviventes do sexo masculino\n",
    "percentual_sobreviventes_masc = (total_sobreviventes / total_passageiros_masc) * 100\n",
    "percentual_sobreviventes_masc"
   ]
  },
  {
   "cell_type": "markdown",
   "id": "d8e4a73d-476a-4b93-ae0a-615be2a2b004",
   "metadata": {},
   "source": [
    "### b) percentual de passageiros sobreviventes do sexo feminino\n"
   ]
  },
  {
   "cell_type": "code",
   "execution_count": 8,
   "id": "92fa42dd-f0ce-4b4d-a33e-0c83c1edfdc7",
   "metadata": {},
   "outputs": [
    {
     "data": {
      "text/plain": [
       "314"
      ]
     },
     "execution_count": 8,
     "metadata": {},
     "output_type": "execute_result"
    }
   ],
   "source": [
    "# Calcular o número total de passageiros do sexo feminino\n",
    "passageiros_fem = df[df['Sex'] == 'female']\n",
    "total_passageiros_fem = passageiros_fem.shape[0]\n",
    "total_passageiros_fem"
   ]
  },
  {
   "cell_type": "code",
   "execution_count": 9,
   "id": "6e21557e-b0be-4777-929e-3206390d6c61",
   "metadata": {},
   "outputs": [],
   "source": [
    "# Sobreviventes do sexo feminino\n",
    "sobreviventes_fem = passageiros_fem[passageiros_fem['Survived'] == 1]"
   ]
  },
  {
   "cell_type": "code",
   "execution_count": 10,
   "id": "3b295aa5-bd2c-4343-aaba-374218cd052c",
   "metadata": {},
   "outputs": [
    {
     "data": {
      "text/plain": [
       "233"
      ]
     },
     "execution_count": 10,
     "metadata": {},
     "output_type": "execute_result"
    }
   ],
   "source": [
    "# Calcular o total de passageiras sobreviventes\n",
    "total_sobreviventes_fem = sobreviventes_fem.shape[0]\n",
    "total_sobreviventes_fem"
   ]
  },
  {
   "cell_type": "code",
   "execution_count": 11,
   "id": "969e5a5c-c422-48ad-a24b-6f972a19fb79",
   "metadata": {},
   "outputs": [
    {
     "data": {
      "text/plain": [
       "74.20382165605095"
      ]
     },
     "execution_count": 11,
     "metadata": {},
     "output_type": "execute_result"
    }
   ],
   "source": [
    "# percentual de sobreviventes do sexo feminino\n",
    "percentual_sobreviventes_fem = (total_sobreviventes_fem / total_passageiros_fem) * 100\n",
    "percentual_sobreviventes_fem"
   ]
  },
  {
   "cell_type": "markdown",
   "id": "8f405d5f-0b86-4aa8-a586-2bdd0ebbf9cb",
   "metadata": {},
   "source": [
    "### c) quantidade de crianças (idade <=12) mortas"
   ]
  },
  {
   "cell_type": "code",
   "execution_count": 12,
   "id": "cc491275-cd3b-4419-b5c8-0e0075c35790",
   "metadata": {},
   "outputs": [],
   "source": [
    "# Crianças menores e iguais a 12\n",
    "criancas = df[df['Age'] <= 12]"
   ]
  },
  {
   "cell_type": "code",
   "execution_count": 13,
   "id": "5bb9363e-a446-4627-b88a-2e7378727e58",
   "metadata": {},
   "outputs": [
    {
     "data": {
      "text/plain": [
       "40"
      ]
     },
     "execution_count": 13,
     "metadata": {},
     "output_type": "execute_result"
    }
   ],
   "source": [
    "# Total de sobreviventes\n",
    "criancas_sobreviventes = criancas[criancas['Survived'] == 1]\n",
    "total_criancas_sobreviventes = criancas_sobreviventes.shape[0]\n",
    "total_criancas_sobreviventes"
   ]
  },
  {
   "cell_type": "markdown",
   "id": "83c3242a-a5c7-4a31-b8e5-07c9a4486c21",
   "metadata": {},
   "source": [
    "### d) quantidade de sobreviventes por classe"
   ]
  },
  {
   "cell_type": "code",
   "execution_count": 14,
   "id": "bc8c811c-edec-4c2d-8460-14f54679c5f4",
   "metadata": {},
   "outputs": [],
   "source": [
    "sobreviventes_pclasse = df[df['Survived'] == 1]"
   ]
  },
  {
   "cell_type": "code",
   "execution_count": null,
   "id": "c084e4bc-6e79-4af5-bd78-96d49ffbc589",
   "metadata": {},
   "outputs": [],
   "source": []
  }
 ],
 "metadata": {
  "kernelspec": {
   "display_name": "Python 3 (ipykernel)",
   "language": "python",
   "name": "python3"
  },
  "language_info": {
   "codemirror_mode": {
    "name": "ipython",
    "version": 3
   },
   "file_extension": ".py",
   "mimetype": "text/x-python",
   "name": "python",
   "nbconvert_exporter": "python",
   "pygments_lexer": "ipython3",
   "version": "3.12.4"
  }
 },
 "nbformat": 4,
 "nbformat_minor": 5
}
