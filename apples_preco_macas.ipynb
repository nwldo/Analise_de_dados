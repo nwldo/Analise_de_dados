{
 "cells": [
  {
   "cell_type": "code",
   "execution_count": 2,
   "id": "d7cdd464-24ae-4b42-a26f-1d78578af364",
   "metadata": {},
   "outputs": [
    {
     "name": "stdout",
     "output_type": "stream",
     "text": [
      "Maior produção da cidade de Moscow 110.28\n",
      "Menor produção da cidade de Moscow 0\n",
      "\n",
      "A diferença entre a maior e menor produção na ciade de Moscow\n",
      "110.28\n",
      "\n",
      "Maior produção da cidade de Ekaterinburg 108.53\n",
      "Menor produção da cidade de Ekaterinburg 0\n"
     ]
    }
   ],
   "source": [
    "import numpy as np\n",
    "\n",
    "dados = np.loadtxt('bases de dados/apples_ts.csv', delimiter=',', skiprows=1, dtype=str)\n",
    "\n",
    "\n",
    "dados = dados[:, 1:]\n",
    "\n",
    "dados = dados.astype(float)\n",
    "\n",
    "for i in dados[0]:\n",
    "    maior = 0\n",
    "    if i > maior:\n",
    "        maior = i\n",
    "print(f'Maior produção da cidade de Moscow {maior}')\n",
    "\n",
    "\n",
    "for i in dados[0]:\n",
    "    menor = 0\n",
    "    if i < menor:\n",
    "        menor = i\n",
    "print(f'Menor produção da cidade de Moscow {menor}')\n",
    "\n",
    "print('')\n",
    "print('A diferença entre a maior e menor produção na ciade de Moscow')\n",
    "diferenca = maior - menor\n",
    "print(diferenca)\n",
    "\n",
    "\n",
    "print('')\n",
    "for i in dados[4]:\n",
    "    maior = 0\n",
    "    if i > maior:\n",
    "        maior = i\n",
    "print(f'Maior produção da cidade de Ekaterinburg {maior}')\n",
    "\n",
    "\n",
    "for i in dados[4]:\n",
    "    menor = 0\n",
    "    if i < menor:\n",
    "        menor = i\n",
    "print(f'Menor produção da cidade de Ekaterinburg {menor}')"
   ]
  }
 ],
 "metadata": {
  "kernelspec": {
   "display_name": "Python 3 (ipykernel)",
   "language": "python",
   "name": "python3"
  },
  "language_info": {
   "codemirror_mode": {
    "name": "ipython",
    "version": 3
   },
   "file_extension": ".py",
   "mimetype": "text/x-python",
   "name": "python",
   "nbconvert_exporter": "python",
   "pygments_lexer": "ipython3",
   "version": "3.12.2"
  }
 },
 "nbformat": 4,
 "nbformat_minor": 5
}
